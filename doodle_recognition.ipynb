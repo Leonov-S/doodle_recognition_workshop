{
 "cells": [
  {
   "cell_type": "markdown",
   "metadata": {},
   "source": [
    "# QuickDraw-like doodle recognition !\n",
    "You can check the game below: <br />\n",
    "https://quickdraw.withgoogle.com/"
   ]
  },
  {
   "cell_type": "markdown",
   "metadata": {},
   "source": [
    "Import all the usefull libraries"
   ]
  },
  {
   "cell_type": "code",
   "execution_count": null,
   "metadata": {},
   "outputs": [],
   "source": [
    "import tensorflow as tf\n",
    "from tensorflow import keras\n",
    "from tensorflow.keras import layers\n",
    "\n",
    "import numpy as np\n",
    "import matplotlib.pyplot as plt\n",
    "\n",
    "import os\n",
    "import urllib.request"
   ]
  },
  {
   "cell_type": "markdown",
   "metadata": {},
   "source": [
    "### Dowload the QuickDraw datasets <br />\n",
    "You can see their datasets here: <br />\n",
    "https://quickdraw.withgoogle.com/data"
   ]
  },
  {
   "cell_type": "code",
   "execution_count": null,
   "metadata": {},
   "outputs": [],
   "source": [
    "os.system('cls' if os.name == 'nt' else 'clear')\n",
    "class_names = []\n",
    "\n",
    "if (not os.path.exists(\"data\")):\n",
    "    os.mkdir(\"data\")\n",
    "f= open(\"mini_classes.txt\",\"r\")\n",
    "classes = f.readlines()\n",
    "f.close()\n",
    "classes = [c.replace('\\n','').replace(' ','_') for c in classes]\n",
    "ind = 0\n",
    "for c in classes:\n",
    "    c_url = c.replace('_', '%20')\n",
    "    print(\"Downloading \" + c + \" - [\" + str(ind) + \" /\" + str(len(classes)) + \"]\")\n",
    "    full_url = \"https://storage.googleapis.com/quickdraw_dataset/full/numpy_bitmap/\" + c_url + \".npy\"\n",
    "    if (not os.path.exists('data/' + c + \".npy\")):\n",
    "        urllib.request.urlretrieve(full_url, 'data/' + c + \".npy\")\n",
    "    ind += 1\n",
    "print(\"Downloaded \" + \"[\" + str(ind) + \" /\" + str(len(classes)) + \"]\")"
   ]
  }
 ],
 "metadata": {
  "kernelspec": {
   "display_name": "Python 3.10.9 64-bit",
   "language": "python",
   "name": "python3"
  },
  "language_info": {
   "name": "python",
   "version": "3.10.9"
  },
  "orig_nbformat": 4,
  "vscode": {
   "interpreter": {
    "hash": "e7370f93d1d0cde622a1f8e1c04877d8463912d04d973331ad4851f04de6915a"
   }
  }
 },
 "nbformat": 4,
 "nbformat_minor": 2
}
