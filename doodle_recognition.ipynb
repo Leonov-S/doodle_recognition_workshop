{
 "cells": [
  {
   "cell_type": "markdown",
   "metadata": {},
   "source": [
    "# QuickDraw-like doodle recognition !\n",
    "You can check the game below: <br />\n",
    "https://quickdraw.withgoogle.com/"
   ]
  },
  {
   "cell_type": "markdown",
   "metadata": {},
   "source": [
    "Import all the usefull libraries<br />\n",
    "- `tensorflow` :    machine learning model\n",
    "- `numpy` :         data shaping\n",
    "- `mathplotlib` :   visualize the data\n",
    "- `os` :            read your directories / files\n",
    "- `urllib` :        retrieve urls"
   ]
  },
  {
   "cell_type": "code",
   "execution_count": null,
   "metadata": {},
   "outputs": [],
   "source": [
    "import tensorflow as tf\n",
    "from tensorflow import keras\n",
    "from tensorflow.keras import layers\n",
    "\n",
    "import numpy as np\n",
    "import matplotlib.pyplot as plt\n",
    "\n",
    "import os\n",
    "import urllib.request"
   ]
  },
  {
   "cell_type": "markdown",
   "metadata": {},
   "source": [
    "### Dowload the QuickDraw datasets <br />\n",
    "You can see their datasets here: <br />\n",
    "https://quickdraw.withgoogle.com/data <br /><br />\n",
    "\n",
    "Here we just download the simplified numpy_bitmaps from the QuickDraw! datasets.<br />\n",
    "We get the data from here:<br />https://console.cloud.google.com/storage/browser/quickdraw_dataset/full/numpy_bitmap;tab=objects?prefix=&forceOnObjectsSortingFiltering=false <br />\n",
    "We simply download the datasets for each classe that appears in the \"mini_classes.txt\" file.<br />\n",
    "Already existing data will not be replaced."
   ]
  },
  {
   "cell_type": "code",
   "execution_count": null,
   "metadata": {},
   "outputs": [],
   "source": [
    "os.system('cls' if os.name == 'nt' else 'clear')\n",
    "class_names = []\n",
    "\n",
    "if (not os.path.exists(\"data\")):\n",
    "    os.mkdir(\"data\")\n",
    "f= open(\"mini_classes.txt\",\"r\")\n",
    "classes = f.readlines()\n",
    "f.close()\n",
    "classes = [c.replace('\\n','').replace(' ','_') for c in classes]\n",
    "ind = 0\n",
    "for c in classes:\n",
    "    c_url = c.replace('_', '%20')\n",
    "    print(\"Downloading \" + c + \" - [\" + str(ind) + \" /\" + str(len(classes)) + \"]\")\n",
    "    full_url = \"https://storage.googleapis.com/quickdraw_dataset/full/numpy_bitmap/\" + c_url + \".npy\"\n",
    "    if (not os.path.exists('data/' + c + \".npy\")):\n",
    "        urllib.request.urlretrieve(full_url, 'data/' + c + \".npy\")\n",
    "    ind += 1\n",
    "print(\"Downloaded \" + \"[\" + str(ind) + \" /\" + str(len(classes)) + \"]\")"
   ]
  },
  {
   "cell_type": "markdown",
   "metadata": {},
   "source": [
    "### Process the Data"
   ]
  },
  {
   "cell_type": "code",
   "execution_count": null,
   "metadata": {},
   "outputs": [],
   "source": [
    "all_files = ['data/' + s for s in os.listdir(\"data\")]\n",
    "x_data = np.empty([0, 784])\n",
    "y_labels = np.empty([0])\n",
    "\n",
    "vfold_ratio=0.2\n",
    "max_items_per_class=4000\n",
    "\n",
    "for idx, file in enumerate(all_files):\n",
    "    data = np.load(file)\n",
    "    data = data[0:max_items_per_class, :]\n",
    "    labels = np.full(data.shape[0], idx)\n",
    "\n",
    "    x_data = np.concatenate((x_data, data), axis=0)\n",
    "    y_labels = np.append(y_labels, labels)\n",
    "\n",
    "    class_name, ext = os.path.splitext(os.path.basename(file))\n",
    "    class_names.append(class_name)\n",
    "\n",
    "data = None\n",
    "labels = None\n",
    "\n",
    "permutation = np.random.permutation(y_labels.shape[0])\n",
    "\n",
    "x_data = x_data[permutation, :]\n",
    "y_labels = y_labels[permutation]\n",
    "\n",
    "vfold_size = int(x_data.shape[0]/100*(vfold_ratio*100))\n",
    "\n",
    "x_test = x_data[0:vfold_size, :]\n",
    "y_test = y_labels[0:vfold_size]\n",
    "\n",
    "x_train = x_data[vfold_size:x_data.shape[0], :]\n",
    "y_train = y_labels[vfold_size:x_data.shape[0]]\n",
    "\n",
    "num_classes = len(os.listdir(\"data\"))\n",
    "image_size = 28"
   ]
  },
  {
   "cell_type": "markdown",
   "metadata": {},
   "source": [
    "### Get an overview of the data"
   ]
  },
  {
   "cell_type": "code",
   "execution_count": null,
   "metadata": {},
   "outputs": [],
   "source": [
    "plt.figure(figsize=(10, 10))\n",
    "\n",
    "for i in range(24):\n",
    "    ax = plt.subplot(9, 6, i + 1)\n",
    "    plt.imshow(x_train[i].reshape(28, 28))\n",
    "    plt.title(int(y_train[i]))\n",
    "    plt.axis(\"off\")\n",
    "plt.show()"
   ]
  },
  {
   "cell_type": "markdown",
   "metadata": {},
   "source": [
    "### Shape the data to match the model format"
   ]
  },
  {
   "cell_type": "code",
   "execution_count": null,
   "metadata": {},
   "outputs": [],
   "source": [
    "x_train = x_train.reshape(x_train.shape[0], image_size, image_size, 1).astype('float32')\n",
    "x_test = x_test.reshape(x_test.shape[0], image_size, image_size, 1).astype('float32')\n",
    "\n",
    "x_train /= 255.0\n",
    "x_test /= 255.0\n",
    "\n",
    "y_train = keras.utils.to_categorical(y_train, num_classes)\n",
    "y_test = keras.utils.to_categorical(y_test, num_classes)"
   ]
  },
  {
   "cell_type": "markdown",
   "metadata": {},
   "source": [
    "### Create your model\n",
    "Keras layers: <br />\n",
    "https://www.tensorflow.org/api_docs/python/tf/keras/layers <br /> <br />\n",
    "\n",
    "You might use Convoltion2D and MaxPooling2D layers. <br />\n",
    "You can try other layers type if you wish to. <br /> <br />\n",
    "Internet is also full of common architectures exemples for different kind of models. <br />\n",
    "(ex: https://www.jeremyjordan.me/convnet-architectures/ <br /> https://www.analyticsvidhya.com/blog/2020/10/what-is-the-convolutional-neural-network-architecture/) <br /> <br />\n",
    "You need to complete your model with a \"Flatten\" and two \"Dense\" layers to match the output shape. <br />\n",
    "Flatten without specifing any arguments. <br />\n",
    "Dense with a specified number of nodes and an activation function. <br />\n",
    "Dense with the number of classes to recognise as the node number and 'softmax' as the activation function. <br /> <br />\n",
    "\n",
    "Your model has already been defined with `model = keras.Sequential()`. <br />\n",
    "To add a layer to your model, just use the add method (`model.add()`) <br />\n",
    "The different layer classes can be accessed through `tensorflow.keras.layers` but we imported it directly as `layers`,<br />\n",
    "so just type  (`layers.`layer_name)."
   ]
  },
  {
   "cell_type": "code",
   "execution_count": null,
   "metadata": {},
   "outputs": [],
   "source": [
    "model = keras.Sequential()\n",
    "model.add(layers.Conv2D(32, kernel_size=(5, 5), activation='relu', input_shape=(28, 28, 1))) # 32 filters, 5x5 kernel\n",
    "model.add(layers.MaxPooling2D(pool_size=(2, 2), strides=2))\n",
    "model.add(layers.Conv2D(64, kernel_size=(3, 3), activation='sigmoid')) # 64 filters, 3x3 kernel\n",
    "model.add(layers.MaxPooling2D(pool_size=(2, 2), strides=2))\n",
    "model.add(layers.Flatten())\n",
    "model.add(layers.Dense(256, activation='relu'))\n",
    "model.add(layers.Dense(len(os.listdir(\"data\")), activation='softmax'))"
   ]
  },
  {
   "cell_type": "markdown",
   "metadata": {},
   "source": [
    "### Train your model"
   ]
  },
  {
   "cell_type": "code",
   "execution_count": null,
   "metadata": {},
   "outputs": [],
   "source": [
    "adam = tf.optimizers.Adam()\n",
    "model.compile(loss='categorical_crossentropy',\n",
    "            optimizer=adam,\n",
    "            metrics=['top_k_categorical_accuracy'])\n",
    "model.fit(x = x_train, y = y_train, validation_split=0.1, batch_size = 256, verbose=2, epochs=3)\n",
    "model.save('dr.h5')\n",
    "model.save_weights('drWeight.h5')"
   ]
  },
  {
   "cell_type": "markdown",
   "metadata": {},
   "source": [
    "Your model has now been trained and generated a `dr.h5` and `drWeight.h5` files, these corresponds to your trained model and its reprocessed weights. <br /> You can now load the model to feed it the image you want to recognize."
   ]
  },
  {
   "cell_type": "markdown",
   "metadata": {},
   "source": [
    "Launch the paint program ( `./paint` in your terminal ) to test your ai."
   ]
  }
 ],
 "metadata": {
  "kernelspec": {
   "display_name": "Python 3.10.9 64-bit",
   "language": "python",
   "name": "python3"
  },
  "language_info": {
   "codemirror_mode": {
    "name": "ipython",
    "version": 3
   },
   "file_extension": ".py",
   "mimetype": "text/x-python",
   "name": "python",
   "nbconvert_exporter": "python",
   "pygments_lexer": "ipython3",
   "version": "3.10.9"
  },
  "orig_nbformat": 4,
  "vscode": {
   "interpreter": {
    "hash": "e7370f93d1d0cde622a1f8e1c04877d8463912d04d973331ad4851f04de6915a"
   }
  }
 },
 "nbformat": 4,
 "nbformat_minor": 2
}
